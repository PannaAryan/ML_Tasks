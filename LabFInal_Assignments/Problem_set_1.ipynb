{
  "nbformat": 4,
  "nbformat_minor": 0,
  "metadata": {
    "colab": {
      "provenance": []
    },
    "kernelspec": {
      "name": "python3",
      "display_name": "Python 3"
    },
    "language_info": {
      "name": "python"
    },
    "accelerator": "TPU"
  },
  "cells": [
    {
      "cell_type": "markdown",
      "source": [
        "Import Libraries"
      ],
      "metadata": {
        "id": "H33egJWLOLQz"
      }
    },
    {
      "cell_type": "code",
      "source": [
        "import os\n",
        "from tensorflow.keras.preprocessing.image import ImageDataGenerator\n",
        "from tensorflow.keras.models import Sequential\n",
        "from tensorflow.keras.layers import Conv2D, MaxPooling2D, Flatten, Dense"
      ],
      "metadata": {
        "id": "nKuueEdGOPlt"
      },
      "execution_count": 10,
      "outputs": []
    },
    {
      "cell_type": "markdown",
      "source": [
        "Data Directory"
      ],
      "metadata": {
        "id": "69JIij1rOwKa"
      }
    },
    {
      "cell_type": "code",
      "source": [
        "from google.colab import drive\n",
        "drive.mount('/content/drive')"
      ],
      "metadata": {
        "colab": {
          "base_uri": "https://localhost:8080/"
        },
        "id": "dbPMWRbaO0Fl",
        "outputId": "e21ebf56-c1df-4ef1-a695-23cefc9c3f64"
      },
      "execution_count": 2,
      "outputs": [
        {
          "output_type": "stream",
          "name": "stdout",
          "text": [
            "Drive already mounted at /content/drive; to attempt to forcibly remount, call drive.mount(\"/content/drive\", force_remount=True).\n"
          ]
        }
      ]
    },
    {
      "cell_type": "markdown",
      "source": [
        "Define image dimensions and batch size"
      ],
      "metadata": {
        "id": "V5HIWCKLe2uR"
      }
    },
    {
      "cell_type": "code",
      "source": [
        "img_width, img_height = 150, 150\n",
        "batch_size = 32"
      ],
      "metadata": {
        "id": "6sHvxTXDfLat"
      },
      "execution_count": 3,
      "outputs": []
    },
    {
      "cell_type": "markdown",
      "source": [
        "Define the data directories"
      ],
      "metadata": {
        "id": "_cvZ1vcUhvYi"
      }
    },
    {
      "cell_type": "code",
      "source": [
        "train_dir = '/content/drive/MyDrive/ML/Archive/train'\n",
        "test_dir = '/content/drive/MyDrive/ML/Archive/test'\n",
        "val_dir = '/content/drive/MyDrive/ML/Archive/val'\n"
      ],
      "metadata": {
        "id": "h7tlJt-6h11m"
      },
      "execution_count": 4,
      "outputs": []
    },
    {
      "cell_type": "markdown",
      "source": [
        "Create data generators with augmentation for training data"
      ],
      "metadata": {
        "id": "MwORdPrniNKZ"
      }
    },
    {
      "cell_type": "code",
      "source": [
        "train_datagen = ImageDataGenerator(\n",
        "    rescale=1./255,\n",
        "    shear_range=0.2,\n",
        "    zoom_range=0.2,\n",
        "    horizontal_flip=True\n",
        ")\n",
        "\n",
        "test_datagen = ImageDataGenerator(rescale=1./255)\n",
        "\n",
        "train_generator = train_datagen.flow_from_directory(\n",
        "    train_dir,\n",
        "    target_size=(img_width, img_height),\n",
        "    batch_size=batch_size,\n",
        "    class_mode='binary'\n",
        ")\n",
        "\n",
        "validation_generator = test_datagen.flow_from_directory(\n",
        "    val_dir,\n",
        "    target_size=(img_width, img_height),\n",
        "    batch_size=batch_size,\n",
        "    class_mode='binary'\n",
        ")"
      ],
      "metadata": {
        "colab": {
          "base_uri": "https://localhost:8080/"
        },
        "id": "jyixP3h-fR_E",
        "outputId": "00934ed1-4463-4b21-9765-68c8e309378e"
      },
      "execution_count": 5,
      "outputs": [
        {
          "output_type": "stream",
          "name": "stdout",
          "text": [
            "Found 5216 images belonging to 2 classes.\n",
            "Found 16 images belonging to 2 classes.\n"
          ]
        }
      ]
    },
    {
      "cell_type": "markdown",
      "source": [
        "Build the CNN model"
      ],
      "metadata": {
        "id": "v070lr-fiiKT"
      }
    },
    {
      "cell_type": "code",
      "source": [
        "model = Sequential()\n",
        "model.add(Conv2D(32, (3, 3), input_shape=(img_width, img_height, 3), activation='relu'))\n",
        "model.add(MaxPooling2D(pool_size=(2, 2)))\n",
        "model.add(Conv2D(64, (3, 3), activation='relu'))\n",
        "model.add(MaxPooling2D(pool_size=(2, 2)))\n",
        "model.add(Conv2D(128, (3, 3), activation='relu'))\n",
        "model.add(MaxPooling2D(pool_size=(2, 2)))\n",
        "model.add(Flatten())\n",
        "model.add(Dense(128, activation='relu'))\n",
        "model.add(Dense(1, activation='sigmoid'))"
      ],
      "metadata": {
        "id": "50IHIfOFimBF"
      },
      "execution_count": 6,
      "outputs": []
    },
    {
      "cell_type": "markdown",
      "source": [
        "Compile the model"
      ],
      "metadata": {
        "id": "k2qVrogdirY5"
      }
    },
    {
      "cell_type": "code",
      "source": [
        "model.compile(optimizer='adam', loss='binary_crossentropy', metrics=['accuracy'])"
      ],
      "metadata": {
        "id": "790yLmB7iukq"
      },
      "execution_count": 7,
      "outputs": []
    },
    {
      "cell_type": "markdown",
      "source": [
        "Train the model"
      ],
      "metadata": {
        "id": "ZRW6cs6Yiy8Z"
      }
    },
    {
      "cell_type": "code",
      "source": [
        "history = model.fit(\n",
        "    train_generator,\n",
        "    steps_per_epoch=train_generator.samples // batch_size,\n",
        "    epochs=10,\n",
        "    validation_data=validation_generator,\n",
        "    validation_steps=validation_generator.samples // batch_size\n",
        ")\n"
      ],
      "metadata": {
        "colab": {
          "base_uri": "https://localhost:8080/"
        },
        "id": "6umILNtei1ab",
        "outputId": "290d62db-c523-4fd8-e1f3-2fe608aa2a01"
      },
      "execution_count": 12,
      "outputs": [
        {
          "output_type": "stream",
          "name": "stdout",
          "text": [
            "Epoch 1/10\n",
            "163/163 [==============================] - 395s 2s/step - loss: 0.0943 - accuracy: 0.9659\n",
            "Epoch 2/10\n",
            "163/163 [==============================] - 398s 2s/step - loss: 0.0904 - accuracy: 0.9674\n",
            "Epoch 3/10\n",
            "163/163 [==============================] - 386s 2s/step - loss: 0.0884 - accuracy: 0.9682\n",
            "Epoch 4/10\n",
            "163/163 [==============================] - 388s 2s/step - loss: 0.0920 - accuracy: 0.9649\n",
            "Epoch 5/10\n",
            "163/163 [==============================] - 388s 2s/step - loss: 0.0796 - accuracy: 0.9695\n",
            "Epoch 6/10\n",
            "163/163 [==============================] - 389s 2s/step - loss: 0.0855 - accuracy: 0.9666\n",
            "Epoch 7/10\n",
            "163/163 [==============================] - 386s 2s/step - loss: 0.0826 - accuracy: 0.9707\n",
            "Epoch 8/10\n",
            "163/163 [==============================] - 391s 2s/step - loss: 0.0713 - accuracy: 0.9735\n",
            "Epoch 9/10\n",
            "163/163 [==============================] - 386s 2s/step - loss: 0.0762 - accuracy: 0.9726\n",
            "Epoch 10/10\n",
            "163/163 [==============================] - 392s 2s/step - loss: 0.0751 - accuracy: 0.9724\n"
          ]
        }
      ]
    },
    {
      "cell_type": "markdown",
      "source": [
        "Evaluate the model on the test set"
      ],
      "metadata": {
        "id": "QRDHkdv75HZI"
      }
    },
    {
      "cell_type": "code",
      "source": [
        "test_generator = test_datagen.flow_from_directory(\n",
        "    test_dir,\n",
        "    target_size=(img_width, img_height),\n",
        "    batch_size=batch_size,\n",
        "    class_mode='binary'\n",
        ")\n",
        "\n",
        "test_loss, test_acc = model.evaluate(test_generator, steps=test_generator.samples // batch_size)\n",
        "print(f'Test accuracy: {test_acc}')"
      ],
      "metadata": {
        "colab": {
          "base_uri": "https://localhost:8080/"
        },
        "id": "ZepTuZa_5KUO",
        "outputId": "aab5da1a-ed02-476a-c26b-691dc4145a21"
      },
      "execution_count": 11,
      "outputs": [
        {
          "output_type": "stream",
          "name": "stdout",
          "text": [
            "Found 627 images belonging to 2 classes.\n",
            "19/19 [==============================] - 65s 3s/step - loss: 0.4892 - accuracy: 0.8898\n",
            "Test accuracy: 0.8898026347160339\n"
          ]
        }
      ]
    }
  ]
}