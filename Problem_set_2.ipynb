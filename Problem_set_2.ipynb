{
  "nbformat": 4,
  "nbformat_minor": 0,
  "metadata": {
    "colab": {
      "provenance": [],
      "mount_file_id": "1-jFzA9m6SYnZbK0fc-laoHMtrAsQI8PX",
      "authorship_tag": "ABX9TyM3UlnOlK+IHDq8/sIEmQeB",
      "include_colab_link": true
    },
    "kernelspec": {
      "name": "python3",
      "display_name": "Python 3"
    },
    "language_info": {
      "name": "python"
    }
  },
  "cells": [
    {
      "cell_type": "markdown",
      "metadata": {
        "id": "view-in-github",
        "colab_type": "text"
      },
      "source": [
        "<a href=\"https://colab.research.google.com/github/PannaAryan/ML_Tasks/blob/main/Problem_set_2.ipynb\" target=\"_parent\"><img src=\"https://colab.research.google.com/assets/colab-badge.svg\" alt=\"Open In Colab\"/></a>"
      ]
    },
    {
      "cell_type": "markdown",
      "source": [
        "Importing Libraries"
      ],
      "metadata": {
        "id": "b98RKdLiWcoy"
      }
    },
    {
      "cell_type": "code",
      "source": [
        "import pandas as pd\n",
        "from sklearn.model_selection import train_test_split\n",
        "from sklearn.preprocessing import PolynomialFeatures\n",
        "from sklearn.preprocessing import MinMaxScaler\n",
        "from sklearn.model_selection import GridSearchCV\n",
        "from sklearn.preprocessing import StandardScaler\n",
        "from sklearn.linear_model import LogisticRegression\n",
        "from sklearn.metrics import accuracy_score, confusion_matrix, classification_report"
      ],
      "metadata": {
        "id": "e7JE6N7SWfE-"
      },
      "execution_count": 7,
      "outputs": []
    },
    {
      "cell_type": "markdown",
      "source": [
        "Data Directory"
      ],
      "metadata": {
        "id": "OAlojkbYX7P5"
      }
    },
    {
      "cell_type": "code",
      "source": [
        "from google.colab import drive\n",
        "drive.mount('/content/drive')"
      ],
      "metadata": {
        "colab": {
          "base_uri": "https://localhost:8080/"
        },
        "id": "u21WylWwX9mW",
        "outputId": "f9ca53c6-8ce5-41ea-9a8e-78f25404790e"
      },
      "execution_count": 15,
      "outputs": [
        {
          "output_type": "stream",
          "name": "stdout",
          "text": [
            "Drive already mounted at /content/drive; to attempt to forcibly remount, call drive.mount(\"/content/drive\", force_remount=True).\n"
          ]
        }
      ]
    },
    {
      "cell_type": "markdown",
      "source": [
        "URL"
      ],
      "metadata": {
        "id": "imwvDN6CYV-I"
      }
    },
    {
      "cell_type": "code",
      "source": [
        "url = \"/content/drive/MyDrive/ML/bank-data/bank-data/bank-full.csv\"\n",
        "data = pd.read_csv(url, delimiter=';')"
      ],
      "metadata": {
        "id": "4eSZoaSaYX-F"
      },
      "execution_count": 16,
      "outputs": []
    },
    {
      "cell_type": "markdown",
      "source": [],
      "metadata": {
        "id": "E0KWkxTZ0_w-"
      }
    },
    {
      "cell_type": "markdown",
      "source": [
        "One-Hot Encode Categorical Features"
      ],
      "metadata": {
        "id": "ziY7zY660puW"
      }
    },
    {
      "cell_type": "code",
      "source": [
        "categorical_features = ['job', 'marital', 'education', 'default', 'housing', 'loan', 'contact', 'month', 'poutcome']\n",
        "data_encoded = pd.get_dummies(data, columns=categorical_features, drop_first=True)"
      ],
      "metadata": {
        "id": "5HOQUhlu0t4r"
      },
      "execution_count": 17,
      "outputs": []
    },
    {
      "cell_type": "markdown",
      "source": [
        "Map 'yes' and 'no' to 1 and 0 for the target variable"
      ],
      "metadata": {
        "id": "Zm12sNLh04Ks"
      }
    },
    {
      "cell_type": "code",
      "source": [
        "data_encoded['y'] = data_encoded['y'].map({'yes': 1, 'no': 0})"
      ],
      "metadata": {
        "id": "KxjU0jpk0413"
      },
      "execution_count": 10,
      "outputs": []
    },
    {
      "cell_type": "markdown",
      "source": [
        "Split Data into Features and Target"
      ],
      "metadata": {
        "id": "dhGnVS6O1BiT"
      }
    },
    {
      "cell_type": "code",
      "source": [
        "X_encoded = data_encoded.drop('y', axis=1)\n",
        "y_encoded = data_encoded['y']\n",
        "\n",
        "X_train_encoded, X_test_encoded, y_train_encoded, y_test_encoded = train_test_split(X_encoded, y_encoded, test_size=0.2, random_state=42)"
      ],
      "metadata": {
        "id": "jxT3PkpF1CNE"
      },
      "execution_count": 11,
      "outputs": []
    },
    {
      "cell_type": "markdown",
      "source": [
        "Standardize Features"
      ],
      "metadata": {
        "id": "PN72oXJM1V_z"
      }
    },
    {
      "cell_type": "code",
      "source": [
        "scaler_encoded = StandardScaler()\n",
        "X_train_scaled_encoded = scaler_encoded.fit_transform(X_train_encoded)\n",
        "X_test_scaled_encoded = scaler_encoded.transform(X_test_encoded)"
      ],
      "metadata": {
        "id": "ZhXnOF5P1XIY"
      },
      "execution_count": 12,
      "outputs": []
    },
    {
      "cell_type": "markdown",
      "source": [
        "Train Logistic Regression Model"
      ],
      "metadata": {
        "id": "RCccWRBc1aoY"
      }
    },
    {
      "cell_type": "code",
      "source": [
        "model_encoded = LogisticRegression(random_state=42)\n",
        "model_encoded.fit(X_train_scaled_encoded, y_train_encoded)\n",
        "\n",
        "y_pred_encoded = model_encoded.predict(X_test_scaled_encoded)"
      ],
      "metadata": {
        "id": "aeIQxb5M1gOR"
      },
      "execution_count": 13,
      "outputs": []
    },
    {
      "cell_type": "markdown",
      "source": [
        "Evaluate the Model"
      ],
      "metadata": {
        "id": "98QR-5ff1kuA"
      }
    },
    {
      "cell_type": "code",
      "source": [
        "print(data.head())\n",
        "print(data.info())\n",
        "\n",
        "accuracy_encoded = accuracy_score(y_test_encoded, y_pred_encoded)\n",
        "conf_matrix_encoded = confusion_matrix(y_test_encoded, y_pred_encoded)\n",
        "classification_rep_encoded = classification_report(y_test_encoded, y_pred_encoded)\n",
        "\n",
        "print(\"Accuracy:\", accuracy_encoded)\n",
        "print(\"Confusion Matrix:\\n\", conf_matrix_encoded)\n",
        "print(\"Classification Report:\\n\", classification_rep_encoded)\n",
        "\n",
        "\n",
        "print(f\"Accuracy: {accuracy}\")\n",
        "print(f\"Confusion Matrix:\\n{conf_matrix}\")\n",
        "print(f\"Classification Report:\\n{classification_rep}\")\n"
      ],
      "metadata": {
        "colab": {
          "base_uri": "https://localhost:8080/"
        },
        "id": "_P1VBfib1pT_",
        "outputId": "1eda7441-eea9-4982-c8e1-23274d85c78e"
      },
      "execution_count": 18,
      "outputs": [
        {
          "output_type": "stream",
          "name": "stdout",
          "text": [
            "   age           job  marital  education default  balance housing loan  \\\n",
            "0   58    management  married   tertiary      no     2143     yes   no   \n",
            "1   44    technician   single  secondary      no       29     yes   no   \n",
            "2   33  entrepreneur  married  secondary      no        2     yes  yes   \n",
            "3   47   blue-collar  married    unknown      no     1506     yes   no   \n",
            "4   33       unknown   single    unknown      no        1      no   no   \n",
            "\n",
            "   contact  day month  duration  campaign  pdays  previous poutcome   y  \n",
            "0  unknown    5   may       261         1     -1         0  unknown  no  \n",
            "1  unknown    5   may       151         1     -1         0  unknown  no  \n",
            "2  unknown    5   may        76         1     -1         0  unknown  no  \n",
            "3  unknown    5   may        92         1     -1         0  unknown  no  \n",
            "4  unknown    5   may       198         1     -1         0  unknown  no  \n",
            "<class 'pandas.core.frame.DataFrame'>\n",
            "RangeIndex: 45211 entries, 0 to 45210\n",
            "Data columns (total 17 columns):\n",
            " #   Column     Non-Null Count  Dtype \n",
            "---  ------     --------------  ----- \n",
            " 0   age        45211 non-null  int64 \n",
            " 1   job        45211 non-null  object\n",
            " 2   marital    45211 non-null  object\n",
            " 3   education  45211 non-null  object\n",
            " 4   default    45211 non-null  object\n",
            " 5   balance    45211 non-null  int64 \n",
            " 6   housing    45211 non-null  object\n",
            " 7   loan       45211 non-null  object\n",
            " 8   contact    45211 non-null  object\n",
            " 9   day        45211 non-null  int64 \n",
            " 10  month      45211 non-null  object\n",
            " 11  duration   45211 non-null  int64 \n",
            " 12  campaign   45211 non-null  int64 \n",
            " 13  pdays      45211 non-null  int64 \n",
            " 14  previous   45211 non-null  int64 \n",
            " 15  poutcome   45211 non-null  object\n",
            " 16  y          45211 non-null  object\n",
            "dtypes: int64(7), object(10)\n",
            "memory usage: 5.9+ MB\n",
            "None\n",
            "Accuracy: 0.8987061815769103\n",
            "Confusion Matrix:\n",
            " [[7755  197]\n",
            " [ 719  372]]\n",
            "Classification Report:\n",
            "               precision    recall  f1-score   support\n",
            "\n",
            "           0       0.92      0.98      0.94      7952\n",
            "           1       0.65      0.34      0.45      1091\n",
            "\n",
            "    accuracy                           0.90      9043\n",
            "   macro avg       0.78      0.66      0.70      9043\n",
            "weighted avg       0.88      0.90      0.88      9043\n",
            "\n",
            "Accuracy: 0.8987061815769103\n",
            "Confusion Matrix:\n",
            "[[7755  197]\n",
            " [ 719  372]]\n",
            "Classification Report:\n",
            "              precision    recall  f1-score   support\n",
            "\n",
            "           0       0.92      0.98      0.94      7952\n",
            "           1       0.65      0.34      0.45      1091\n",
            "\n",
            "    accuracy                           0.90      9043\n",
            "   macro avg       0.78      0.66      0.70      9043\n",
            "weighted avg       0.88      0.90      0.88      9043\n",
            "\n"
          ]
        }
      ]
    }
  ]
}